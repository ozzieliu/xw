{
 "cells": [
  {
   "cell_type": "markdown",
   "metadata": {},
   "source": [
    "# Data Ingestion"
   ]
  },
  {
   "cell_type": "code",
   "execution_count": 153,
   "metadata": {
    "collapsed": true
   },
   "outputs": [],
   "source": [
    "import re\n",
    "import datetime\n",
    "import os\n",
    "import fnmatch\n",
    "\n",
    "from pymongo import MongoClient\n",
    "import tqdm"
   ]
  },
  {
   "cell_type": "code",
   "execution_count": 2,
   "metadata": {
    "collapsed": true
   },
   "outputs": [],
   "source": [
    "## Create and connect to my MongoDB instance and the clues collection\n",
    "client = MongoClient()\n",
    "db = client.xwords\n",
    "collection = db.clues"
   ]
  },
  {
   "cell_type": "code",
   "execution_count": 5,
   "metadata": {
    "collapsed": true
   },
   "outputs": [],
   "source": [
    "## Here's the cursor\n",
    "cursor = collection.find_one()"
   ]
  },
  {
   "cell_type": "code",
   "execution_count": 55,
   "metadata": {
    "collapsed": true
   },
   "outputs": [],
   "source": [
    "xw = open('nyt2016-01-01.xd', 'r')\n",
    "data = xw.read().splitlines()"
   ]
  },
  {
   "cell_type": "markdown",
   "metadata": {},
   "source": [
    "Helper function that reads each file, parse the data, and inserts each clue : answer pair into MongoDB"
   ]
  },
  {
   "cell_type": "code",
   "execution_count": 174,
   "metadata": {
    "collapsed": false,
    "scrolled": true
   },
   "outputs": [],
   "source": [
    "def parse_clues(filename):\n",
    "    xw = open(filename, 'r')\n",
    "    data = xw.read().splitlines()\n",
    "    \n",
    "    d = dict()\n",
    "    source = filename[-16:-13]\n",
    "    date = datetime.datetime.strptime(filename[-13:-3], '%Y-%m-%d')\n",
    "    day_of_week = date.isoweekday()\n",
    "    difficulty = day_of_week\n",
    "    \n",
    "    if day_of_week == 7:\n",
    "        difficulty = 4\n",
    "    \n",
    "    d['Date'] = date\n",
    "    d['Source'] = source\n",
    "    d['DayofWeek'] = day_of_week\n",
    "    d['Difficulty'] = difficulty\n",
    "\n",
    "    blankline = 0\n",
    "    section = 1\n",
    "\n",
    "    for line in data:\n",
    "    #     print 'section:',section, line\n",
    "        line = line.strip()\n",
    "\n",
    "        if not line:\n",
    "            blankline += 1\n",
    "            if blankline >= 2:\n",
    "                blankline = 0\n",
    "                section += 1\n",
    "\n",
    "        if section == 1:\n",
    "            # header info\n",
    "            if \":\" in line:\n",
    "                key, value = line.split(\":\", 1)\n",
    "                key, value = key.strip(), value.strip()\n",
    "    #             print key, ':', value\n",
    "\n",
    "                ## Store them\n",
    "                d[key] = value\n",
    "        elif section == 2:\n",
    "            # crossword grid\n",
    "            if line:\n",
    "                grid.append(line)\n",
    "\n",
    "        elif section == 3:\n",
    "            if line:\n",
    "                clue = re.search(r'\\.\\s(.*)\\s\\~', line).group(1)\n",
    "                try:\n",
    "                    answer = re.search(r'\\~\\s(.*)', line).group(1)\n",
    "                except:\n",
    "                    answer = ''\n",
    "                    print 'problem with', filename, '-', line\n",
    "                    \n",
    "                new = dict(d)\n",
    "                new['Clue'] = clue\n",
    "                new['Answer'] = answer\n",
    "    #             print new\n",
    "                collection.insert_one(new)\n",
    "        \n",
    "#     print \"Success for\", filename"
   ]
  },
  {
   "cell_type": "code",
   "execution_count": 168,
   "metadata": {
    "collapsed": false
   },
   "outputs": [],
   "source": [
    "xw_file = 'nyt2016-01-01.xd'\n",
    "\n",
    "parse_clues(xw_file)"
   ]
  },
  {
   "cell_type": "code",
   "execution_count": 166,
   "metadata": {
    "collapsed": false
   },
   "outputs": [
    {
     "name": "stdout",
     "output_type": "stream",
     "text": [
      "chr\n",
      "2009-07-10\n",
      "2009-07-10 00:00:00\n",
      "5\n"
     ]
    }
   ],
   "source": [
    "x = 'crosswords/chronicle/2009/chr2009-07-10.xd'\n",
    "print x[-16:-13]\n",
    "print x[-13:-3]\n",
    "\n",
    "t = datetime.datetime.strptime(x[-13:-3], '%Y-%m-%d')\n",
    "print t\n",
    "print t.isoweekday()"
   ]
  },
  {
   "cell_type": "code",
   "execution_count": 136,
   "metadata": {
    "collapsed": false
   },
   "outputs": [],
   "source": [
    "import os\n",
    "import fnmatch\n",
    "import tqdm"
   ]
  },
  {
   "cell_type": "code",
   "execution_count": 133,
   "metadata": {
    "collapsed": false,
    "scrolled": true
   },
   "outputs": [],
   "source": [
    "## Gets all files\n",
    "match = []\n",
    "for root, dirnames, filenames in os.walk('crosswords'):\n",
    "    for filename in fnmatch.filter(filenames, '*.xd'):\n",
    "        match.append(os.path.join(root, filename))\n",
    "match"
   ]
  },
  {
   "cell_type": "code",
   "execution_count": 175,
   "metadata": {
    "collapsed": false
   },
   "outputs": [
    {
     "name": "stderr",
     "output_type": "stream",
     "text": [
      " 81%|████████  | 23890/29456 [15:07<03:18, 27.99it/s]"
     ]
    },
    {
     "name": "stdout",
     "output_type": "stream",
     "text": [
      "problem with crosswords/nytimes/2004/nyt2004-01-15.xd - D37. Extinct Namibian shrub genus: Var. ~\n",
      "problem with"
     ]
    },
    {
     "name": "stderr",
     "output_type": "stream",
     "text": [
      " 91%|█████████▏| 26922/29456 [16:48<01:22, 30.88it/s]"
     ]
    },
    {
     "name": "stdout",
     "output_type": "stream",
     "text": [
      " crosswords/nytimes/2013/nyt2013-10-31.xd - A65. 64-Across, in 23-Down ~\n",
      "problem with"
     ]
    },
    {
     "name": "stderr",
     "output_type": "stream",
     "text": [
      " 95%|█████████▌| 28044/29456 [17:24<00:45, 30.72it/s]"
     ]
    },
    {
     "name": "stdout",
     "output_type": "stream",
     "text": [
      " crosswords/universal/2012/fcx2012-08-26.xd - D0.  ~\n",
      "problem with"
     ]
    },
    {
     "name": "stderr",
     "output_type": "stream",
     "text": [
      "                                                     "
     ]
    },
    {
     "name": "stdout",
     "output_type": "stream",
     "text": [
      " crosswords/universal/2015/fcx2015-09-24.xd - D1. Additionally ~\n",
      "problem with crosswords/universal/2015/fcx2015-09-24.xd - D2. Weaver's apparatus ~\n",
      "problem with crosswords/universal/2015/fcx2015-09-24.xd - D3. Chills, fever and sweating ~\n",
      "problem with crosswords/universal/2015/fcx2015-09-24.xd - D4. Cheap liquor ~\n",
      "problem with crosswords/universal/2015/fcx2015-09-24.xd - D5. \"I've found it!\" ~\n",
      "problem with crosswords/universal/2015/fcx2015-09-24.xd - D6. Treat rudely, in slang ~\n",
      "problem with crosswords/universal/2015/fcx2015-09-24.xd - D7. Have a hunch about ~\n",
      "problem with crosswords/universal/2015/fcx2015-09-24.xd - D8. Nonuniversity type ~\n",
      "problem with crosswords/universal/2015/fcx2015-09-24.xd - D9. Field cover, for short ~\n",
      "problem with crosswords/universal/2015/fcx2015-09-24.xd - D10. Edit menu choice ~\n",
      "problem with crosswords/universal/2015/fcx2015-09-24.xd - D11. Nut attachment ~\n",
      "problem with crosswords/universal/2015/fcx2015-09-24.xd - D12. \"___ day now ...\" ~\n",
      "problem with crosswords/universal/2015/fcx2015-09-24.xd - D14. Deals with a patchy lawn ~\n",
      "problem with crosswords/universal/2015/fcx2015-09-24.xd - D17. Dish that's \"slung\" ~\n",
      "problem with crosswords/universal/2015/fcx2015-09-24.xd - D18. Set ___ (save) ~\n",
      "problem with crosswords/universal/2015/fcx2015-09-24.xd - D22. Icy road application, perhaps ~\n",
      "problem with crosswords/universal/2015/fcx2015-09-24.xd - D24. Performs a cadenza, e.g. ~\n",
      "problem with crosswords/universal/2015/fcx2015-09-24.xd - D25. Quarter-round molding ~\n",
      "problem with crosswords/universal/2015/fcx2015-09-24.xd - D26. Confronted ~\n",
      "problem with crosswords/universal/2015/fcx2015-09-24.xd - D27. Cowboy's lasso ~\n",
      "problem with crosswords/universal/2015/fcx2015-09-24.xd - D28. Viet ___ ~\n",
      "problem with crosswords/universal/2015/fcx2015-09-24.xd - D29. \"Fear of Flying\" author Jong ~\n",
      "problem with crosswords/universal/2015/fcx2015-09-24.xd - D30. Emulate a peacock ~\n",
      "problem with crosswords/universal/2015/fcx2015-09-24.xd - D31. Triangle or square ~\n",
      "problem with crosswords/universal/2015/fcx2015-09-24.xd - D36. Popular pond fish ~\n",
      "problem with crosswords/universal/2015/fcx2015-09-24.xd - D38. Cook's canful ~\n",
      "problem with crosswords/universal/2015/fcx2015-09-24.xd - D39. Neighbor of Syria ~\n",
      "problem with crosswords/universal/2015/fcx2015-09-24.xd - D42. Kama ___ (Hindu love manual) ~\n",
      "problem with crosswords/universal/2015/fcx2015-09-24.xd - D46. Handy postal container ~\n",
      "problem with crosswords/universal/2015/fcx2015-09-24.xd - D47. Baby's bed ~\n",
      "problem with crosswords/universal/2015/fcx2015-09-24.xd - D48. Ear-related ~\n",
      "problem with crosswords/universal/2015/fcx2015-09-24.xd - D49. Mother-of-pearl sources ~\n",
      "problem with crosswords/universal/2015/fcx2015-09-24.xd - D52. Chancel cross ~\n",
      "problem with crosswords/universal/2015/fcx2015-09-24.xd - D53. Audio effect ~\n",
      "problem with crosswords/universal/2015/fcx2015-09-24.xd - D54. Place to stack money ~\n",
      "problem with crosswords/universal/2015/fcx2015-09-24.xd - D55. Like many turns ~\n",
      "problem with crosswords/universal/2015/fcx2015-09-24.xd - D57. \"____, Caesar!\" ~\n",
      "problem with crosswords/universal/2015/fcx2015-09-24.xd - D58. Beige relative ~\n",
      "problem with crosswords/universal/2015/fcx2015-09-24.xd - D59. Henna applier ~\n",
      "problem with crosswords/universal/2015/fcx2015-09-24.xd - D60. Do the slopes ~\n",
      "problem with crosswords/universal/2015/fcx2015-09-24.xd - D61. Prefix for \"night\" ~\n"
     ]
    },
    {
     "name": "stderr",
     "output_type": "stream",
     "text": [
      "\r"
     ]
    }
   ],
   "source": [
    "## Run parse_clues on all files\n",
    "for m in tqdm.tqdm(match):\n",
    "    parse_clues(m)"
   ]
  },
  {
   "cell_type": "code",
   "execution_count": null,
   "metadata": {
    "collapsed": true
   },
   "outputs": [],
   "source": []
  },
  {
   "cell_type": "code",
   "execution_count": null,
   "metadata": {
    "collapsed": true
   },
   "outputs": [],
   "source": []
  }
 ],
 "metadata": {
  "kernelspec": {
   "display_name": "Python 2",
   "language": "python",
   "name": "python2"
  },
  "language_info": {
   "codemirror_mode": {
    "name": "ipython",
    "version": 2
   },
   "file_extension": ".py",
   "mimetype": "text/x-python",
   "name": "python",
   "nbconvert_exporter": "python",
   "pygments_lexer": "ipython2",
   "version": "2.7.11"
  }
 },
 "nbformat": 4,
 "nbformat_minor": 0
}
