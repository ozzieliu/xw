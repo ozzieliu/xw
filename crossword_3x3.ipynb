{
 "cells": [
  {
   "cell_type": "code",
   "execution_count": 6,
   "metadata": {
    "collapsed": true
   },
   "outputs": [],
   "source": [
    "import numpy as np\n",
    "import re\n",
    "import itertools"
   ]
  },
  {
   "cell_type": "raw",
   "metadata": {},
   "source": [
    "x/y: 1 2 3\n",
    "1    . . .\n",
    "2    . . .\n",
    "3    . . ."
   ]
  },
  {
   "cell_type": "code",
   "execution_count": 2,
   "metadata": {
    "collapsed": false
   },
   "outputs": [],
   "source": [
    "class puzzle:\n",
    "    def __init__(self, dimension = 3):\n",
    "        self.size = dimension\n",
    "        self.board = np.array([['.' for col in range(self.size)] for row in range(self.size)])\n",
    "        \n",
    "        ## List of objects/dicts for each clue\n",
    "        self.across = dict()\n",
    "        self.down = dict()\n",
    "        \n",
    "        self.answer_list = []\n",
    "        \n",
    "        self.update()\n",
    "        \n",
    "    def __repr__(self):\n",
    "        ##  prints out the puzzle\n",
    "        puzzle = ''\n",
    "        for row in self.board:\n",
    "            for char in row:\n",
    "                puzzle += char\n",
    "            puzzle += '\\n'\n",
    "        return puzzle\n",
    "    \n",
    "    def update(self):\n",
    "        \n",
    "        for row in range(len(self.board)):\n",
    "            self.across[(row, 0)] = ''.join(self.board[row, :])\n",
    "        \n",
    "        for col in range(len(self.board)):\n",
    "            self.down[(0, col)] = ''.join(self.board[:, col])\n",
    "    \n",
    "    def seed_initial(self, answer, x=0, y=0):\n",
    "        ## Just add some values to the grid for testing\n",
    "        self.add_across(answer)\n",
    "        self.update()\n",
    "#         self.board = [['a','p','i'], ['g', 'i', 't'], ['e', 'g', 'o']]\n",
    "\n",
    "#     def match(self, pattern):\n",
    "#         r = re.compile('^' + pattern + '$')\n",
    "#         return filter(r.match, wordbank)\n",
    "    \n",
    "    def add_across(self, answer, x=0, y=0):\n",
    "        word_length = len(answer)\n",
    "        self.board[x, y:y+word_length] = [c for c in answer]\n",
    "        \n",
    "        self.answer_list.append(('across', x, y, ))\n",
    "        \n",
    "        self.update()\n",
    "        \n",
    "    def add_down(self, answer, x=0, y=0):\n",
    "        word_length = len(answer)\n",
    "        \n",
    "        self.board[x:x+word_length, y] = [c for c in answer]\n",
    "        self.update()"
   ]
  },
  {
   "cell_type": "code",
   "execution_count": 3,
   "metadata": {
    "collapsed": true
   },
   "outputs": [],
   "source": [
    "def match(pattern, wordbank):\n",
    "        r = re.compile('^' + pattern + '$')\n",
    "        return filter(r.match, wordbank)"
   ]
  },
  {
   "cell_type": "code",
   "execution_count": 4,
   "metadata": {
    "collapsed": true
   },
   "outputs": [],
   "source": [
    "wordbank = ['api', 'git', 'ego', 'age', 'pig', 'ito']\n",
    "# wordbank = ['api', 'git', 'ego', 'age', 'pig', 'ito', 'app', 'ant', 'amy', 'aunt']"
   ]
  },
  {
   "cell_type": "code",
   "execution_count": 8,
   "metadata": {
    "collapsed": false
   },
   "outputs": [
    {
     "name": "stdout",
     "output_type": "stream",
     "text": [
      "api\n",
      "...\n",
      "...\n",
      "\n",
      "{(0, 1): 'p..', (0, 0): 'a..', (0, 2): 'i..'}\n",
      "a..\n"
     ]
    }
   ],
   "source": [
    "my = puzzle()\n",
    "# print my\n",
    "\n",
    "## First word\n",
    "my.seed_initial('api')\n",
    "print my\n",
    "\n",
    "print my.down\n",
    "space = my.down[(0,0)]\n",
    "print space\n",
    "my.add_down(space, 0, 0)\n",
    "\n",
    "# print {'down':{k:v for k,v in my.down.items() if '.' in v}}\n",
    "# print {'across':{k:v for k,v in my.across.items() if '.' in v}}\n",
    "\n",
    "# print incomplete_down\n",
    "# print incomplete_across\n",
    "\n",
    "# while '.' in my.board:\n",
    "#     ## goes through unfinished words and add them down\n",
    "#     for k, v in unfinished_words.items():\n",
    "#         choices = match(v, wordbank)\n",
    "#     #     print choices\n",
    "#     #     print choices[0]\n",
    "#         my.add_down(choices[-1], x=k[0], y=k[1])\n",
    "\n",
    "# if '.' in my.board:\n",
    "\n",
    "# my.add_down('age')\n",
    "# print my.down\n",
    "# print my.across\n",
    "# print my\n",
    "\n",
    "# my.add_down('ipo', y = 2)\n",
    "# print my\n",
    "# print my.down\n",
    "# z = my.down\n",
    "# print my.across\n",
    "# # my.add_across('ego', x = 2)\n",
    "# # print my\n",
    "\n",
    "# for word in my.down:\n",
    "#     print match(word, wordbank)"
   ]
  },
  {
   "cell_type": "code",
   "execution_count": null,
   "metadata": {
    "collapsed": true
   },
   "outputs": [],
   "source": [
    "my_puzzle = puzzle()\n",
    "# my_puzzle.foo()"
   ]
  },
  {
   "cell_type": "code",
   "execution_count": 62,
   "metadata": {
    "collapsed": false
   },
   "outputs": [],
   "source": [
    "def match(pattern, wordbank):\n",
    "    r = re.compile('^' + pattern + '$')\n",
    "    return filter(r.match, wordbank)"
   ]
  },
  {
   "cell_type": "code",
   "execution_count": null,
   "metadata": {
    "collapsed": false
   },
   "outputs": [],
   "source": [
    "print my_puzzle"
   ]
  },
  {
   "cell_type": "code",
   "execution_count": null,
   "metadata": {
    "collapsed": false
   },
   "outputs": [],
   "source": [
    "board = [['a','p','i'], ['g', 'i', 't'], ['e', 'g', 'o']]\n",
    "\n",
    "def legal_board(board):\n",
    "    across = [''.join(row) for row in board]\n",
    "    down = [''.join([r[c] for r in board]) for c in range(3)]\n",
    "    return set(down+across).issubset(set(wordbank))\n",
    "\n",
    "legal_board(board)"
   ]
  },
  {
   "cell_type": "code",
   "execution_count": null,
   "metadata": {
    "collapsed": false
   },
   "outputs": [],
   "source": [
    "wordbank = ['api', 'git', 'ego', 'age', 'pig', 'ito', 'app', 'ant', 'amy']"
   ]
  },
  {
   "cell_type": "code",
   "execution_count": null,
   "metadata": {
    "collapsed": true
   },
   "outputs": [],
   "source": []
  },
  {
   "cell_type": "code",
   "execution_count": null,
   "metadata": {
    "collapsed": false
   },
   "outputs": [],
   "source": [
    "size = 3\n",
    "board = [['?' for col in range(size)] for row in range(size)]\n",
    "across = [''.join(row) for row in board]\n",
    "down = [''.join([r[c] for r in board]) for c in range(size)]"
   ]
  },
  {
   "cell_type": "code",
   "execution_count": null,
   "metadata": {
    "collapsed": false
   },
   "outputs": [],
   "source": [
    "print board\n",
    "print across\n",
    "print down"
   ]
  },
  {
   "cell_type": "code",
   "execution_count": null,
   "metadata": {
    "collapsed": false
   },
   "outputs": [],
   "source": [
    "def first_seed(clue):\n",
    "    board[0] = [c for c in clue]\n",
    "    \n",
    "first_seed('api')"
   ]
  },
  {
   "cell_type": "code",
   "execution_count": null,
   "metadata": {
    "collapsed": false
   },
   "outputs": [],
   "source": [
    "print board"
   ]
  },
  {
   "cell_type": "code",
   "execution_count": null,
   "metadata": {
    "collapsed": false
   },
   "outputs": [],
   "source": [
    "across = [''.join(row) for row in board]\n",
    "down = [''.join([r[c] for r in board]) for c in range(size)]\n",
    "print across\n",
    "print down"
   ]
  },
  {
   "cell_type": "code",
   "execution_count": 21,
   "metadata": {
    "collapsed": true
   },
   "outputs": [],
   "source": [
    "import numpy as np"
   ]
  },
  {
   "cell_type": "code",
   "execution_count": 135,
   "metadata": {
    "collapsed": false
   },
   "outputs": [
    {
     "data": {
      "text/plain": [
       "True"
      ]
     },
     "execution_count": 135,
     "metadata": {},
     "output_type": "execute_result"
    }
   ],
   "source": [
    "b = np.array([['a','p','.'], ['g', 'i', 't'], ['e', 'g', 'o']])\n",
    "'.' in b"
   ]
  },
  {
   "cell_type": "code",
   "execution_count": 100,
   "metadata": {
    "collapsed": false
   },
   "outputs": [
    {
     "name": "stdout",
     "output_type": "stream",
     "text": [
      "direction: down x: 0 y: 0 word: age\n",
      "direction: down x: 0 y: 1 word: pig\n",
      "direction: down x: 0 y: 2 word: ito\n"
     ]
    }
   ],
   "source": [
    "for col in range(len(b)):\n",
    "    print 'direction: down', 'x:', 0, 'y:', col, 'word:', ''.join(b[:,col])"
   ]
  },
  {
   "cell_type": "code",
   "execution_count": 40,
   "metadata": {
    "collapsed": false
   },
   "outputs": [
    {
     "data": {
      "text/plain": [
       "['cpi', 'ait', 'tgo']"
      ]
     },
     "execution_count": 40,
     "metadata": {},
     "output_type": "execute_result"
    }
   ],
   "source": [
    "[''.join(row) for row in b]"
   ]
  },
  {
   "cell_type": "code",
   "execution_count": 125,
   "metadata": {
    "collapsed": false
   },
   "outputs": [
    {
     "data": {
      "text/plain": [
       "['p..']"
      ]
     },
     "execution_count": 125,
     "metadata": {},
     "output_type": "execute_result"
    }
   ],
   "source": [
    "[v for k,v in z.items() if '.' in v]"
   ]
  },
  {
   "cell_type": "code",
   "execution_count": null,
   "metadata": {
    "collapsed": true
   },
   "outputs": [],
   "source": []
  },
  {
   "cell_type": "raw",
   "metadata": {
    "collapsed": false
   },
   "source": [
    "## add across\n",
    "## input: self.board, word, position r and c\n",
    "size = 3\n",
    "# board = [['' for col in range(3)] for row in range(3)]\n",
    "board = [['','P',''], ['g', 'i', 't'], ['e', 'g', 'o']]\n",
    "word = 'API'\n",
    "r = 0\n",
    "c = 0\n",
    "length = len(word)\n",
    "\n",
    "## check if c is out of bounds\n",
    "if not 0 <= c < size:\n",
    "    print 'uh oh'\n",
    "    \n",
    "## check if word added goes out of bounds:\n",
    "if (c + len(word)) > size:\n",
    "    print 'no good'\n",
    "\n",
    "## check if there are blocks in those spaces:\n",
    "if '#' in board[r][c:c+length]:\n",
    "    print 'blocked'\n",
    "\n",
    "## so far so good, check if the replacement's allowed. i.e. if it conflicts with existing word\n",
    "current = board[r][c:c+length]\n",
    "\n",
    "def allowed_move(new_word, current_word):\n",
    "#     print new_word, current_word\n",
    "    legal = True\n",
    "    for i in range(len(new_word)):\n",
    "        legal = legal and current_word[i] in [new_word[i], '']\n",
    "    return legal\n",
    "\n",
    "print allowed_move(word, current)\n",
    "\n",
    "## If allowed add the new word:\n",
    "if allowed_move(word, current):\n",
    "    board[r][c:c+length] = [l for l in word]\n",
    "else:\n",
    "    print \"that's illegal...\"\n",
    "\n",
    "## Finally, gotta check if all the new words formed are actually legal\n",
    "# if legal_board(board):\n",
    "#     print 'ok'\n",
    "# else:\n",
    "#     print 'impossible'\n",
    "    \n",
    "    \n",
    "print board"
   ]
  }
 ],
 "metadata": {
  "kernelspec": {
   "display_name": "Python 2",
   "language": "python",
   "name": "python2"
  },
  "language_info": {
   "codemirror_mode": {
    "name": "ipython",
    "version": 2
   },
   "file_extension": ".py",
   "mimetype": "text/x-python",
   "name": "python",
   "nbconvert_exporter": "python",
   "pygments_lexer": "ipython2",
   "version": "2.7.11"
  }
 },
 "nbformat": 4,
 "nbformat_minor": 0
}
